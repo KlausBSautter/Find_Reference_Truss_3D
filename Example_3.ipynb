{
 "cells": [
  {
   "cell_type": "code",
   "execution_count": 1,
   "metadata": {},
   "outputs": [],
   "source": [
    "from base_functions import node, element_linear, element_nonlinear, system_from_mdpa\n",
    "\n",
    "filename = \"./Example_mdpas/E3.mdpa\"\n",
    "fix_mps = {\n",
    "    \"all\": [\"fixAll\"],\n",
    "    \"x\" : [],\n",
    "    \"y\" : [],\n",
    "    \"z\" : []\n",
    "}\n",
    "\n",
    "mp = {\n",
    "    \"claw\": \"StVenant\",\n",
    "    \"YoungsModulus\" : 1000000.0\n",
    "}\n",
    "\n",
    "s_l = system_from_mdpa(filename, fix_mps, material_parameters=mp, cross_area=0.01,linear_system=True)\n",
    "s_nl = system_from_mdpa(filename, fix_mps, material_parameters=mp, cross_area=0.01,linear_system=False)\n",
    "\n",
    "s_l.find_node(2,s_l.nodes).force[0] = 1000.0\n",
    "s_l.find_node(2,s_l.nodes).force[2] = 2000.0\n",
    "\n",
    "s_nl.find_node(2,s_nl.nodes).force[0] = 1000.0\n",
    "s_nl.find_node(2,s_nl.nodes).force[2] = 2000.0"
   ]
  },
  {
   "cell_type": "code",
   "execution_count": 2,
   "metadata": {},
   "outputs": [
    {
     "name": "stdout",
     "output_type": "stream",
     "text": [
      " >> starting to solve inverse problem\n",
      "disp residual:  1.045825e+00   |   force residual:  2.236068e+03\n",
      "disp residual:  7.189153e-01   |   force residual:  2.064927e+03\n",
      "disp residual:  3.135727e-01   |   force residual:  8.629328e+02\n",
      "disp residual:  4.590965e-02   |   force residual:  1.664269e+02\n",
      "disp residual:  1.257852e-03   |   force residual:  4.025057e+00\n",
      "disp residual:  7.648212e-07   |   force residual:  2.521036e-03\n",
      "disp residual:  3.182063e-13   |   force residual:  1.200734e-09\n",
      "disp residual:  5.630977e-16   |   force residual:  1.455902e-12\n",
      " >> inverse problem solved\n",
      " >> starting to solve inverse problem\n",
      "disp residual:  1.045825e+00   |   force residual:  2.236068e+03\n",
      "disp residual:  5.068388e-01   |   force residual:  5.143142e+03\n",
      "disp residual:  1.594000e-01   |   force residual:  8.508208e+02\n",
      "disp residual:  2.951582e-02   |   force residual:  8.273419e+01\n",
      "disp residual:  3.645082e-04   |   force residual:  3.796737e+00\n",
      "disp residual:  1.730462e-07   |   force residual:  3.786200e-04\n",
      "disp residual:  2.999040e-14   |   force residual:  1.743667e-10\n",
      "disp residual:  2.028990e-16   |   force residual:  9.975980e-13\n",
      " >> inverse problem solved\n"
     ]
    }
   ],
   "source": [
    "# solving nonlinear trusses\n",
    "s_nl.solve_inverse_problem()\n",
    "\n",
    "# solving linear trusses\n",
    "s_l.solve_inverse_problem()"
   ]
  },
  {
   "cell_type": "code",
   "execution_count": 3,
   "metadata": {},
   "outputs": [
    {
     "data": {
      "image/png": "[encoded data removed]",
      "text/plain": [
       "<Figure size 432x288 with 1 Axes>"
      ]
     },
     "metadata": {
      "needs_background": "light"
     },
     "output_type": "display_data"
    }
   ],
   "source": [
    "s_l.plot_convergence(label_text=\"linear truss\")\n",
    "s_nl.plot_convergence(label_text=\"nonlinear truss\")\n",
    "#s_l.save_plot_pdf(\"convergence_plot\")"
   ]
  },
  {
   "cell_type": "code",
   "execution_count": 4,
   "metadata": {},
   "outputs": [],
   "source": [
    "%matplotlib qt \n",
    "fig, ax = s_l.create_plot_figures_3d()\n",
    "plot_figures = {\"fig\":fig, \"ax\":ax}\n",
    "s_l.plot([\"aim\",\"ref\",\"extra\"], plot_figures)\n",
    "s_nl.plot([\"aim\",\"ref\",\"extra\"], plot_figures)"
   ]
  },
  {
   "cell_type": "code",
   "execution_count": 5,
   "metadata": {},
   "outputs": [
    {
     "name": "stdout",
     "output_type": "stream",
     "text": [
      "0.4775519165819388\n",
      "-0.4802572696028726\n",
      "1.4935108461479616\n"
     ]
    }
   ],
   "source": [
    "print(s_l.find_node(2,s_l.nodes).x)\n",
    "print(s_l.find_node(2,s_l.nodes).y)\n",
    "print(s_l.find_node(2,s_l.nodes).z)"
   ]
  },
  {
   "cell_type": "code",
   "execution_count": 7,
   "metadata": {},
   "outputs": [
    {
     "name": "stdout",
     "output_type": "stream",
     "text": [
      "0.6553972454362691\n",
      "-0.424638016434548\n",
      "1.735432507307086\n"
     ]
    }
   ],
   "source": [
    "print(s_nl.find_node(2,s_nl.nodes).x)\n",
    "print(s_nl.find_node(2,s_nl.nodes).y)\n",
    "print(s_nl.find_node(2,s_nl.nodes).z)"
   ]
  },
  {
   "cell_type": "code",
   "execution_count": null,
   "metadata": {},
   "outputs": [],
   "source": []
  }
 ],
 "metadata": {
  "kernelspec": {
   "display_name": "Python 3.10.4 64-bit",
   "language": "python",
   "name": "python3"
  },
  "language_info": {
   "codemirror_mode": {
    "name": "ipython",
    "version": 3
   },
   "file_extension": ".py",
   "mimetype": "text/x-python",
   "name": "python",
   "nbconvert_exporter": "python",
   "pygments_lexer": "ipython3",
   "version": "3.10.4"
  },
  "orig_nbformat": 4,
  "vscode": {
   "interpreter": {
    "hash": "916dbcbb3f70747c44a77c7bcd40155683ae19c65e1c03b4aa3499c5328201f1"
   }
  }
 },
 "nbformat": 4,
 "nbformat_minor": 2
}
