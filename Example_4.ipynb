{
 "cells": [
  {
   "cell_type": "code",
   "execution_count": 5,
   "metadata": {},
   "outputs": [],
   "source": [
    "from base_functions import node, element_linear, element_nonlinear, system_from_mdpa\n",
    "\n",
    "filename = \"./Example_mdpas/E4.mdpa\"\n",
    "fix_mps = {\n",
    "    \"all\": [\"fixAll\"],\n",
    "    \"x\" : [],\n",
    "    \"y\" : [],\n",
    "    \"z\" : []\n",
    "}\n",
    "\n",
    "mp = {\n",
    "    \"claw\": \"StVenant\",\n",
    "    \"YoungsModulus\" : 1000000.0\n",
    "}\n",
    "\n",
    "s_l = system_from_mdpa(filename, fix_mps, material_parameters=mp, cross_area=0.01,linear_system=True)\n",
    "s_nl = system_from_mdpa(filename, fix_mps, material_parameters=mp, cross_area=0.01,linear_system=False)\n",
    "\n",
    "for s in [s_l, s_nl]:\n",
    "    s.find_node(5,s.nodes).force[2] = 300\n",
    "    s.find_node(5,s.nodes).force[0] = 300\n",
    "    s.find_node(5,s.nodes).force[1] = 300"
   ]
  },
  {
   "cell_type": "code",
   "execution_count": 6,
   "metadata": {},
   "outputs": [
    {
     "name": "stdout",
     "output_type": "stream",
     "text": [
      " >> starting to solve inverse problem\n",
      "disp residual:  1.844795e+00   |   force residual:  5.196152e+02\n",
      "disp residual:  8.664373e-01   |   force residual:  3.581876e+03\n",
      "disp residual:  3.022858e-01   |   force residual:  1.562211e+03\n",
      "disp residual:  8.169340e-02   |   force residual:  2.360071e+02\n",
      "disp residual:  3.492556e-03   |   force residual:  7.706767e+00\n",
      "disp residual:  3.531128e-06   |   force residual:  1.085852e-02\n",
      "disp residual:  1.787885e-12   |   force residual:  9.157514e-09\n",
      "disp residual:  1.607013e-15   |   force residual:  4.785662e-12\n",
      " >> inverse problem solved\n",
      " >> starting to solve inverse problem\n",
      "disp residual:  1.844795e+00   |   force residual:  5.196152e+02\n",
      "disp residual:  9.836327e-01   |   force residual:  8.324983e+03\n",
      "disp residual:  7.408547e-01   |   force residual:  1.072083e+03\n",
      "disp residual:  1.497053e-01   |   force residual:  1.583677e+03\n",
      "disp residual:  3.376484e-01   |   force residual:  5.826505e+01\n",
      "disp residual:  4.047100e-02   |   force residual:  3.332264e+02\n",
      "disp residual:  5.794451e-03   |   force residual:  4.220749e+00\n",
      "disp residual:  1.325682e-05   |   force residual:  1.021898e-01\n",
      "disp residual:  1.838981e-09   |   force residual:  6.975065e-07\n",
      "disp residual:  4.986088e-15   |   force residual:  3.119275e-12\n",
      " >> inverse problem solved\n"
     ]
    }
   ],
   "source": [
    "# solving nonlinear trusses\n",
    "s_nl.solve_inverse_problem()\n",
    "\n",
    "# solving linear trusses\n",
    "s_l.solve_inverse_problem()"
   ]
  },
  {
   "cell_type": "code",
   "execution_count": 7,
   "metadata": {},
   "outputs": [],
   "source": [
    "s_l.plot_convergence(label_text=\"linear truss\")\n",
    "s_nl.plot_convergence(label_text=\"nonlinear truss\")\n",
    "s_l.save_plot_pdf(\"convergence_plot\")"
   ]
  },
  {
   "cell_type": "code",
   "execution_count": 8,
   "metadata": {},
   "outputs": [],
   "source": [
    "%matplotlib qt \n",
    "fig, ax = s_l.create_plot_figures_3d()\n",
    "plot_figures = {\"fig\":fig, \"ax\":ax}\n",
    "s_l.plot([\"aim\",\"ref\",\"extra\"], plot_figures)\n",
    "s_nl.plot([\"aim\",\"ref\",\"extra\"], plot_figures)"
   ]
  },
  {
   "cell_type": "code",
   "execution_count": null,
   "metadata": {},
   "outputs": [],
   "source": []
  }
 ],
 "metadata": {
  "kernelspec": {
   "display_name": "Python 3.10.4 64-bit",
   "language": "python",
   "name": "python3"
  },
  "language_info": {
   "codemirror_mode": {
    "name": "ipython",
    "version": 3
   },
   "file_extension": ".py",
   "mimetype": "text/x-python",
   "name": "python",
   "nbconvert_exporter": "python",
   "pygments_lexer": "ipython3",
   "version": "3.10.4"
  },
  "orig_nbformat": 4,
  "vscode": {
   "interpreter": {
    "hash": "916dbcbb3f70747c44a77c7bcd40155683ae19c65e1c03b4aa3499c5328201f1"
   }
  }
 },
 "nbformat": 4,
 "nbformat_minor": 2
}
